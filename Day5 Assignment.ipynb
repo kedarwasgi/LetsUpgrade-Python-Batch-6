{
 "cells": [
  {
   "cell_type": "markdown",
   "metadata": {},
   "source": [
    "    # Q1: Sort by increasing order but all zeros should be at the right hand side "
   ]
  },
  {
   "cell_type": "code",
   "execution_count": 27,
   "metadata": {},
   "outputs": [
    {
     "name": "stdout",
     "output_type": "stream",
     "text": [
      "[1, 2, 3, 4, 5, 5, 7, 0, 0, 0]\n"
     ]
    }
   ],
   "source": [
    "list1= [0,3,2,1,5,4,7,0,5,0]\n",
    "list1.sort()\n",
    "list2= []\n",
    "num_of_zeros=0\n",
    "for i in list1:\n",
    "    if i!=0:\n",
    "        list2.append(i)\n",
    "    else:\n",
    "        num_of_zeros+=1\n",
    "for j in range(num_of_zeros):\n",
    "    list2.append(0)\n",
    "print(list2)"
   ]
  },
  {
   "cell_type": "markdown",
   "metadata": {},
   "source": [
    "    #  Q2: Merge to sorted lists to form one sorted list, but use only loop either while or for only one time"
   ]
  },
  {
   "cell_type": "code",
   "execution_count": 29,
   "metadata": {},
   "outputs": [
    {
     "name": "stdout",
     "output_type": "stream",
     "text": [
      "[10, 20, 40, 60, 70, 80, 5, 15, 25, 35, 45, 60]\n"
     ]
    }
   ],
   "source": [
    "list1 = [10,20,40,60,70,80]\n",
    "list2 = [5,15,25,35,45,60]\n",
    "\n",
    "for i in list2:\n",
    "  list1.append(i)\n",
    "\n",
    "print(list1)"
   ]
  }
 ],
 "metadata": {
  "kernelspec": {
   "display_name": "Python 3",
   "language": "python",
   "name": "python3"
  },
  "language_info": {
   "codemirror_mode": {
    "name": "ipython",
    "version": 3
   },
   "file_extension": ".py",
   "mimetype": "text/x-python",
   "name": "python",
   "nbconvert_exporter": "python",
   "pygments_lexer": "ipython3",
   "version": "3.7.6"
  }
 },
 "nbformat": 4,
 "nbformat_minor": 4
}
